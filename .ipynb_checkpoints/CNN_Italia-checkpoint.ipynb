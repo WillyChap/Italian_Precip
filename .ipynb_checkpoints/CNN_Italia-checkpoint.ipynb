{
 "cells": [
  {
   "cell_type": "code",
   "execution_count": 551,
   "metadata": {},
   "outputs": [],
   "source": [
    "from keras import backend as K\n",
    "from keras import regularizers\n",
    "import scipy.io as sio\n",
    "import sys\n",
    "import os\n",
    "from netCDF4 import Dataset\n",
    "from keras.utils import plot_model\n",
    "from keras.callbacks import ReduceLROnPlateau\n",
    "import numpy as np\n",
    "import matplotlib\n",
    "import matplotlib.pyplot as plt\n",
    "from keras.layers import Input\n",
    "from keras.layers import Dense, BatchNormalization, Dropout,GlobalAveragePooling2D\n",
    "from keras import layers\n",
    "from keras.layers.merge import Concatenate\n",
    "from keras.models import Model\n",
    "from keras import applications\n",
    "import keras\n",
    "\n",
    "from sklearn.utils import shuffle\n",
    "from sklearn.preprocessing import StandardScaler, MinMaxScaler\n",
    "from glob import glob\n",
    "from os.path import join, expanduser\n",
    "\n",
    "from keras.models import Model, save_model, load_model\n",
    "from keras.layers import Dense, Activation, Conv2D,Conv2DTranspose, Input, AveragePooling2D, MaxPooling2D, Flatten, LeakyReLU, Dropout,concatenate\n",
    "from keras.layers import SpatialDropout2D\n",
    "from keras.optimizers import SGD, Adam\n",
    "from keras.regularizers import l2\n",
    "\n",
    "from sklearn.metrics import mean_squared_error, roc_auc_score,r2_score\n",
    "from sklearn.utils import shuffle\n",
    "import importlib\n",
    "\n",
    "import utils\n",
    "import glob, os\n",
    "import copy"
   ]
  },
  {
   "cell_type": "code",
   "execution_count": 848,
   "metadata": {},
   "outputs": [
    {
     "data": {
      "text/plain": [
       "<module 'utils' from '/glade/work/wchapman/Italian_Rain/utils.py'>"
      ]
     },
     "execution_count": 848,
     "metadata": {},
     "output_type": "execute_result"
    }
   ],
   "source": [
    "importlib.reload(utils)"
   ]
  },
  {
   "cell_type": "code",
   "execution_count": 780,
   "metadata": {},
   "outputs": [
    {
     "name": "stdout",
     "output_type": "stream",
     "text": [
      "Training on\n",
      "/glade/work/wchapman/Italian_Rain/train/input_rain_train.nc\n",
      "validating on\n",
      "/glade/work/wchapman/Italian_Rain/train/input_rain_train.nc\n",
      "Testing on\n",
      "/glade/work/wchapman/Italian_Rain/test/input_rain_testing.nc\n"
     ]
    }
   ],
   "source": [
    "#find all files in directory                                                                                                                                                  \n",
    "print('Training on')\n",
    "path = os.getcwd()\n",
    "train_file_names = [f for f in glob.glob(path + \"/train/input*.nc\", recursive=True)]\n",
    "for f in train_file_names:\n",
    "    print(f)\n",
    "    \n",
    "print('validating on')\n",
    "path = os.getcwd()\n",
    "val_file_names = [f for f in glob.glob(path + \"/validation/input*.nc\", recursive=True)]\n",
    "for f in train_file_names:\n",
    "    print(f)\n",
    "\n",
    "print('Testing on')\n",
    "test_file_names = [f for f in glob.glob(path + \"/test/input*.nc\", recursive=True)]\n",
    "for f in test_file_names:\n",
    "    print(f)"
   ]
  },
  {
   "cell_type": "code",
   "execution_count": 781,
   "metadata": {},
   "outputs": [
    {
     "name": "stdout",
     "output_type": "stream",
     "text": [
      "['rr', 't2m', 'u10', 'v10', 'u700', 'v700', 'rh700', 'T700', 'W700']\n",
      "rr_obs\n",
      "(1770, 3, 169, 9)\n",
      "(1770, 507)\n"
     ]
    }
   ],
   "source": [
    "allit = utils.read_image_file('input_rain_permute.nc')\n",
    "print(allit['predictor_names'])\n",
    "print(allit['target_name'])\n",
    "print(allit['predictor_matrix'].shape)\n",
    "print(allit['target_matrix'].shape)"
   ]
  },
  {
   "cell_type": "code",
   "execution_count": 783,
   "metadata": {},
   "outputs": [
    {
     "name": "stdout",
     "output_type": "stream",
     "text": [
      "Reading data from: \"/glade/work/wchapman/Italian_Rain/train/input_rain_train.nc\"...\n",
      "\n",
      "\n",
      "Mean and standard deviation for \"rr\" = 4.3848, 14.7119\n",
      "Mean and standard deviation for \"t2m\" = 277.0811, 31.0830\n",
      "Mean and standard deviation for \"u10\" = 0.3253, 1.0729\n",
      "Mean and standard deviation for \"v10\" = -0.2954, 1.2457\n",
      "Mean and standard deviation for \"u700\" = 3.3131, 6.2032\n",
      "Mean and standard deviation for \"v700\" = -0.1912, 6.9285\n",
      "Mean and standard deviation for \"rh700\" = 54.3749, 23.0899\n",
      "Mean and standard deviation for \"T700\" = 267.4512, 29.9685\n",
      "Mean and standard deviation for \"W700\" = 0.0082, 0.1779\n"
     ]
    }
   ],
   "source": [
    "norm_dict = utils.get_image_normalization_params(train_file_names)"
   ]
  },
  {
   "cell_type": "code",
   "execution_count": 787,
   "metadata": {},
   "outputs": [
    {
     "name": "stdout",
     "output_type": "stream",
     "text": [
      "Reading data from: \"/glade/work/wchapman/Italian_Rain/train/input_rain_train.nc\"...\n",
      "\n",
      "\n",
      "Mean and standard deviation for \"rr_obs\" = 4.2705, 10.9934\n"
     ]
    }
   ],
   "source": [
    "norm_dict_targ = utils.get_image_normalization_params_targ(train_file_names)"
   ]
  },
  {
   "cell_type": "code",
   "execution_count": 788,
   "metadata": {},
   "outputs": [
    {
     "name": "stdout",
     "output_type": "stream",
     "text": [
      "Reading data from: \"input_rain_permute.nc\"...\n",
      "1770\n"
     ]
    }
   ],
   "source": [
    "num_samps = utils.count_samps(['input_rain_permute.nc'])\n",
    "print(num_samps)"
   ]
  },
  {
   "cell_type": "markdown",
   "metadata": {},
   "source": [
    "## Sanity Check - Normalization library: "
   ]
  },
  {
   "cell_type": "code",
   "execution_count": 844,
   "metadata": {},
   "outputs": [
    {
     "name": "stdout",
     "output_type": "stream",
     "text": [
      "predictor_names: ['rr', 't2m', 'u10', 'v10', 'u700', 'v700', 'rh700', 'T700', 'W700']\n",
      "target_names: rr_obs\n",
      "21.3492431640625\n",
      "20.607421875\n",
      "#############################\n",
      "(1770, 507)\n",
      "(1770, 3, 169, 9)\n",
      "original target field\n",
      "mininmum original targ: 0.0\n"
     ]
    },
    {
     "data": {
      "image/png": "[encoded data removed]",
      "text/plain": [
       "<Figure size 432x288 with 1 Axes>"
      ]
     },
     "metadata": {
      "needs_background": "light"
     },
     "output_type": "display_data"
    },
    {
     "name": "stdout",
     "output_type": "stream",
     "text": [
      "#############################\n",
      "norm pred:\n"
     ]
    },
    {
     "data": {
      "image/png": "[encoded data removed]",
      "text/plain": [
       "<Figure size 432x288 with 1 Axes>"
      ]
     },
     "metadata": {
      "needs_background": "light"
     },
     "output_type": "display_data"
    },
    {
     "name": "stdout",
     "output_type": "stream",
     "text": [
      "#############################\n",
      "norm targ:\n",
      "mininmum_targ: -0.38845762718139776\n"
     ]
    },
    {
     "data": {
      "image/png": "[encoded data removed]",
      "text/plain": [
       "<Figure size 432x288 with 1 Axes>"
      ]
     },
     "metadata": {
      "needs_background": "light"
     },
     "output_type": "display_data"
    },
    {
     "name": "stdout",
     "output_type": "stream",
     "text": [
      "#############################\n",
      "denorm pred:\n"
     ]
    },
    {
     "data": {
      "image/png": "[encoded data removed]",
      "text/plain": [
       "<Figure size 432x288 with 1 Axes>"
      ]
     },
     "metadata": {
      "needs_background": "light"
     },
     "output_type": "display_data"
    },
    {
     "name": "stdout",
     "output_type": "stream",
     "text": [
      "#############################\n",
      "denorm targ:\n"
     ]
    },
    {
     "data": {
      "image/png": "[encoded data removed]",
      "text/plain": [
       "<Figure size 432x288 with 1 Axes>"
      ]
     },
     "metadata": {
      "needs_background": "light"
     },
     "output_type": "display_data"
    },
    {
     "name": "stdout",
     "output_type": "stream",
     "text": [
      "#############################\n"
     ]
    }
   ],
   "source": [
    "jago = utils.read_image_file('input_rain_permute.nc')\n",
    "print('predictor_names:',jago['predictor_names'])\n",
    "print('target_names:', jago['target_name'])\n",
    "print(jago['predictor_matrix'][0,0,0,0])\n",
    "print(jago['target_matrix'][0,0])\n",
    "print('#############################')\n",
    "print(jago['target_matrix'].shape)\n",
    "print(jago['predictor_matrix'].shape)\n",
    "\n",
    "#standard: \n",
    "print('original target field')\n",
    "print('mininmum original targ:',np.min(jago['target_matrix']))\n",
    "plt.hist(np.ndarray.flatten(jago['target_matrix']),25)\n",
    "plt.show()\n",
    "print('#############################')\n",
    "pred_mat = utils.normalize_images(jago['predictor_matrix'],jago['predictor_names'],norm_dict)\n",
    "print('norm pred:')\n",
    "plt.hist(np.ndarray.flatten(pred_mat[0][:,:,:,0]),25)\n",
    "plt.show()\n",
    "print('#############################')\n",
    "targ_mat = utils.normalize_images_targ(jago['target_matrix'],jago['target_name'],norm_dict_targ)\n",
    "print('norm targ:')\n",
    "print('mininmum_targ:',np.min(targ_mat[0][:]))\n",
    "plt.hist(np.ndarray.flatten(targ_mat[0][:]),25)\n",
    "plt.show()\n",
    "print('#############################')\n",
    "pred_mat = utils.denormalize_images(pred_mat[0], jago['predictor_names'], norm_dict)\n",
    "print('denorm pred:')\n",
    "plt.hist(np.ndarray.flatten(pred_mat[:,:,:,0]),25)\n",
    "plt.show()\n",
    "print('#############################')\n",
    "targ_mat = utils.denormalize_images_targ(targ_mat[0],jago['target_name'],norm_dict_targ)\n",
    "print('denorm targ:')\n",
    "plt.hist(np.ndarray.flatten(targ_mat[:]),25)\n",
    "plt.show()\n",
    "print('#############################')"
   ]
  },
  {
   "cell_type": "code",
   "execution_count": 845,
   "metadata": {},
   "outputs": [
    {
     "name": "stdout",
     "output_type": "stream",
     "text": [
      "_________________________________________________________________\n",
      "Layer (type)                 Output Shape              Param #   \n",
      "=================================================================\n",
      "input_35 (InputLayer)        (None, 3, 169, 9)         0         \n",
      "_________________________________________________________________\n",
      "conv2d_81 (Conv2D)           (None, 3, 169, 6)         1356      \n",
      "_________________________________________________________________\n",
      "leaky_re_lu_116 (LeakyReLU)  (None, 3, 169, 6)         0         \n",
      "_________________________________________________________________\n",
      "dropout_71 (Dropout)         (None, 3, 169, 6)         0         \n",
      "_________________________________________________________________\n",
      "max_pooling2d_36 (MaxPooling (None, 1, 84, 6)          0         \n",
      "_________________________________________________________________\n",
      "batch_normalization_125 (Bat (None, 1, 84, 6)          24        \n",
      "_________________________________________________________________\n",
      "conv2d_82 (Conv2D)           (None, 1, 84, 12)         1812      \n",
      "_________________________________________________________________\n",
      "leaky_re_lu_117 (LeakyReLU)  (None, 1, 84, 12)         0         \n",
      "_________________________________________________________________\n",
      "batch_normalization_126 (Bat (None, 1, 84, 12)         48        \n",
      "_________________________________________________________________\n",
      "dropout_72 (Dropout)         (None, 1, 84, 12)         0         \n",
      "_________________________________________________________________\n",
      "flatten_33 (Flatten)         (None, 1008)              0         \n",
      "_________________________________________________________________\n",
      "dense_92 (Dense)             (None, 100)               100900    \n",
      "_________________________________________________________________\n",
      "leaky_re_lu_118 (LeakyReLU)  (None, 100)               0         \n",
      "_________________________________________________________________\n",
      "batch_normalization_127 (Bat (None, 100)               400       \n",
      "_________________________________________________________________\n",
      "dense_93 (Dense)             (None, 507)               51207     \n",
      "_________________________________________________________________\n",
      "activation_57 (Activation)   (None, 507)               0         \n",
      "=================================================================\n",
      "Total params: 155,747\n",
      "Trainable params: 155,511\n",
      "Non-trainable params: 236\n",
      "_________________________________________________________________\n"
     ]
    }
   ],
   "source": [
    "img_height = pred_mat.shape[1]\n",
    "img_width = pred_mat.shape[2]\n",
    "num_channels = pred_mat.shape[3]\n",
    "out_shape = np.squeeze(np.reshape(targ_mat[0],(1,-1)).shape[1])\n",
    "learning_rate = 0.001\n",
    "\n",
    "num_conv_filters = 6\n",
    "filter_width = 5\n",
    "conv_activation = \"relu\"\n",
    "learning_rate = 0.001\n",
    "\n",
    "\n",
    "# Input data in shape (instance, y, x, variable)                                                                                                                                                                   \n",
    "conv_net_in = Input(shape=(img_height,img_width,num_channels))\n",
    "\n",
    "# First 2D convolution Layer                                                                                                                                                                                       \n",
    "conv_net = Conv2D(num_conv_filters, (filter_width, filter_width), padding=\"same\")(conv_net_in)\n",
    "conv_net = keras.layers.LeakyReLU(alpha=0.2)(conv_net)\n",
    "conv_net = Dropout(0.2)(conv_net)\n",
    "# Average pooling takes the mean in a 2x2 neighborhood to reduce the image size                                                                                                                                    \n",
    "conv_net = MaxPooling2D()(conv_net)\n",
    "conv_net = BatchNormalization()(conv_net)\n",
    "\n",
    "# Second set of convolution and pooling layers                                                                                                                                                                     \n",
    "conv_net = Conv2D(num_conv_filters * 2, (filter_width, filter_width), padding=\"same\")(conv_net)\n",
    "conv_net = keras.layers.LeakyReLU(alpha=0.2)(conv_net)\n",
    "conv_net = BatchNormalization()(conv_net)\n",
    "conv_net = Dropout(0.3)(conv_net)\n",
    "\n",
    "# # Flatten the last convolutional layer into a long feature vector                                                                                                                                                \n",
    "conv_net = Flatten()(conv_net)                                                                                                                                                                                   \n",
    "# Dense output layer, equivalent to a logistic regression on the last layer                                                                                                                                        \n",
    "conv_net = Dense(100)(conv_net)\n",
    "conv_net = keras.layers.LeakyReLU(alpha=0.2)(conv_net)\n",
    "conv_net = BatchNormalization()(conv_net)\n",
    "\n",
    "conv_net = Dense(int(out_shape))(conv_net)\n",
    "conv_net = Activation(\"relu\")(conv_net)\n",
    "\n",
    "\n",
    "\n",
    "conv_model = Model(conv_net_in, conv_net)\n",
    "# Use the Adam optimizer with default parameters                                                                                                                                                                   \n",
    "opt = Adam(lr=learning_rate)\n",
    "conv_model.compile(opt, \"mse\")\n",
    "\n",
    "conv_model.summary()\n",
    "\n"
   ]
  },
  {
   "cell_type": "code",
   "execution_count": 846,
   "metadata": {},
   "outputs": [
    {
     "data": {
      "text/plain": [
       "{'rr_obs': array([ 4.27045953, 10.99337285])}"
      ]
     },
     "execution_count": 846,
     "metadata": {},
     "output_type": "execute_result"
    }
   ],
   "source": [
    "norm_dict_targ"
   ]
  },
  {
   "cell_type": "code",
   "execution_count": null,
   "metadata": {},
   "outputs": [
    {
     "name": "stdout",
     "output_type": "stream",
     "text": [
      "Normalization dict targ: {'rr_obs': array([ 4.27045953, 10.99337285])}\n",
      "Epoch 1/100\n",
      "Reading data from: \"/glade/work/wchapman/Italian_Rain/train/input_rain_train.nc\"...\n",
      " 1/17 [>.............................] - ETA: 21s - loss: 1.3605Reading data from: \"/glade/work/wchapman/Italian_Rain/train/input_rain_train.nc\"...\n",
      " 2/17 [==>...........................] - ETA: 11s - loss: 1.2016Reading data from: \"/glade/work/wchapman/Italian_Rain/train/input_rain_train.nc\"...\n",
      " 3/17 [====>.........................] - ETA: 8s - loss: 1.3475 Reading data from: \"/glade/work/wchapman/Italian_Rain/train/input_rain_train.nc\"...\n",
      " 4/17 [======>.......................] - ETA: 6s - loss: 1.3988Reading data from: \"/glade/work/wchapman/Italian_Rain/train/input_rain_train.nc\"...\n",
      " 5/17 [=======>......................] - ETA: 5s - loss: 1.3453Reading data from: \"/glade/work/wchapman/Italian_Rain/train/input_rain_train.nc\"...\n",
      " 6/17 [=========>....................] - ETA: 4s - loss: 1.2835Reading data from: \"/glade/work/wchapman/Italian_Rain/train/input_rain_train.nc\"...\n",
      " 7/17 [===========>..................] - ETA: 3s - loss: 1.2420Reading data from: \"/glade/work/wchapman/Italian_Rain/train/input_rain_train.nc\"...\n",
      " 8/17 [=============>................] - ETA: 3s - loss: 1.2145Reading data from: \"/glade/work/wchapman/Italian_Rain/train/input_rain_train.nc\"...\n",
      " 9/17 [==============>...............] - ETA: 2s - loss: 1.1850Reading data from: \"/glade/work/wchapman/Italian_Rain/train/input_rain_train.nc\"...\n",
      "10/17 [================>.............] - ETA: 2s - loss: 1.1515Reading data from: \"/glade/work/wchapman/Italian_Rain/train/input_rain_train.nc\"...\n",
      "11/17 [==================>...........] - ETA: 2s - loss: 1.1526Reading data from: \"/glade/work/wchapman/Italian_Rain/train/input_rain_train.nc\"...\n",
      "12/17 [====================>.........] - ETA: 1s - loss: 1.1240Reading data from: \"/glade/work/wchapman/Italian_Rain/train/input_rain_train.nc\"...\n",
      "13/17 [=====================>........] - ETA: 1s - loss: 1.1172Reading data from: \"/glade/work/wchapman/Italian_Rain/train/input_rain_train.nc\"...\n",
      "14/17 [=======================>......] - ETA: 0s - loss: 1.1374Reading data from: \"/glade/work/wchapman/Italian_Rain/train/input_rain_train.nc\"...\n",
      "15/17 [=========================>....] - ETA: 0s - loss: 1.1087Reading data from: \"/glade/work/wchapman/Italian_Rain/train/input_rain_train.nc\"...\n",
      "16/17 [===========================>..] - ETA: 0s - loss: 1.0741Reading data from: \"/glade/work/wchapman/Italian_Rain/train/input_rain_train.nc\"...\n",
      "Reading data from: \"/glade/work/wchapman/Italian_Rain/validation/input_rain_validate.nc\"...\n",
      "Reading data from: \"/glade/work/wchapman/Italian_Rain/validation/input_rain_validate.nc\"...\n",
      "17/17 [==============================] - 6s 360ms/step - loss: 1.0428 - val_loss: 0.5844\n",
      "\n",
      "Epoch 00001: val_loss improved from inf to 0.58436, saving model to /glade/work/wchapman/Italian_Rain/models/TEST_GPU_mse_2.h5\n",
      "Epoch 2/100\n",
      "Reading data from: \"/glade/work/wchapman/Italian_Rain/train/input_rain_train.nc\"...\n",
      " 1/17 [>.............................] - ETA: 3s - loss: 0.9192Reading data from: \"/glade/work/wchapman/Italian_Rain/train/input_rain_train.nc\"...\n",
      " 2/17 [==>...........................] - ETA: 3s - loss: 0.7421Reading data from: \"/glade/work/wchapman/Italian_Rain/train/input_rain_train.nc\"...\n",
      " 3/17 [====>.........................] - ETA: 2s - loss: 0.7197Reading data from: \"/glade/work/wchapman/Italian_Rain/train/input_rain_train.nc\"...\n",
      " 4/17 [======>.......................] - ETA: 2s - loss: 0.7746Reading data from: \"/glade/work/wchapman/Italian_Rain/train/input_rain_train.nc\"...\n",
      " 5/17 [=======>......................] - ETA: 2s - loss: 0.7679Reading data from: \"/glade/work/wchapman/Italian_Rain/train/input_rain_train.nc\"...\n",
      " 6/17 [=========>....................] - ETA: 2s - loss: 0.7727Reading data from: \"/glade/work/wchapman/Italian_Rain/train/input_rain_train.nc\"...\n",
      " 7/17 [===========>..................] - ETA: 2s - loss: 0.7437Reading data from: \"/glade/work/wchapman/Italian_Rain/train/input_rain_train.nc\"...\n",
      " 8/17 [=============>................] - ETA: 1s - loss: 0.7317Reading data from: \"/glade/work/wchapman/Italian_Rain/train/input_rain_train.nc\"...\n",
      " 9/17 [==============>...............] - ETA: 1s - loss: 0.7104Reading data from: \"/glade/work/wchapman/Italian_Rain/train/input_rain_train.nc\"...\n",
      "10/17 [================>.............] - ETA: 1s - loss: 0.7028Reading data from: \"/glade/work/wchapman/Italian_Rain/train/input_rain_train.nc\"...\n",
      "11/17 [==================>...........] - ETA: 1s - loss: 0.7102Reading data from: \"/glade/work/wchapman/Italian_Rain/train/input_rain_train.nc\"...\n",
      "12/17 [====================>.........] - ETA: 1s - loss: 0.7009Reading data from: \"/glade/work/wchapman/Italian_Rain/train/input_rain_train.nc\"...\n",
      "13/17 [=====================>........] - ETA: 0s - loss: 0.6922Reading data from: \"/glade/work/wchapman/Italian_Rain/train/input_rain_train.nc\"...\n",
      "14/17 [=======================>......] - ETA: 0s - loss: 0.6823Reading data from: \"/glade/work/wchapman/Italian_Rain/train/input_rain_train.nc\"...\n",
      "15/17 [=========================>....] - ETA: 0s - loss: 0.7057Reading data from: \"/glade/work/wchapman/Italian_Rain/train/input_rain_train.nc\"...\n",
      "16/17 [===========================>..] - ETA: 0s - loss: 0.7007Reading data from: \"/glade/work/wchapman/Italian_Rain/train/input_rain_train.nc\"...\n",
      "Reading data from: \"/glade/work/wchapman/Italian_Rain/validation/input_rain_validate.nc\"...\n",
      "Reading data from: \"/glade/work/wchapman/Italian_Rain/validation/input_rain_validate.nc\"...\n",
      "17/17 [==============================] - 3s 203ms/step - loss: 0.6974 - val_loss: 0.3576\n",
      "\n",
      "Epoch 00002: val_loss improved from 0.58436 to 0.35759, saving model to /glade/work/wchapman/Italian_Rain/models/TEST_GPU_mse_2.h5\n",
      "Epoch 3/100\n",
      "Reading data from: \"/glade/work/wchapman/Italian_Rain/train/input_rain_train.nc\"...\n",
      " 1/17 [>.............................] - ETA: 3s - loss: 0.7095Reading data from: \"/glade/work/wchapman/Italian_Rain/train/input_rain_train.nc\"...\n",
      " 2/17 [==>...........................] - ETA: 2s - loss: 0.6959Reading data from: \"/glade/work/wchapman/Italian_Rain/train/input_rain_train.nc\"...\n",
      " 3/17 [====>.........................] - ETA: 2s - loss: 0.6824Reading data from: \"/glade/work/wchapman/Italian_Rain/train/input_rain_train.nc\"...\n",
      " 4/17 [======>.......................] - ETA: 2s - loss: 0.6784Reading data from: \"/glade/work/wchapman/Italian_Rain/train/input_rain_train.nc\"...\n",
      " 5/17 [=======>......................] - ETA: 2s - loss: 0.6706Reading data from: \"/glade/work/wchapman/Italian_Rain/train/input_rain_train.nc\"...\n",
      " 6/17 [=========>....................] - ETA: 2s - loss: 0.7048Reading data from: \"/glade/work/wchapman/Italian_Rain/train/input_rain_train.nc\"...\n",
      " 7/17 [===========>..................] - ETA: 1s - loss: 0.6885Reading data from: \"/glade/work/wchapman/Italian_Rain/train/input_rain_train.nc\"...\n",
      " 8/17 [=============>................] - ETA: 1s - loss: 0.6909Reading data from: \"/glade/work/wchapman/Italian_Rain/train/input_rain_train.nc\"...\n",
      " 9/17 [==============>...............] - ETA: 1s - loss: 0.6965Reading data from: \"/glade/work/wchapman/Italian_Rain/train/input_rain_train.nc\"...\n",
      "10/17 [================>.............] - ETA: 1s - loss: 0.6824Reading data from: \"/glade/work/wchapman/Italian_Rain/train/input_rain_train.nc\"...\n",
      "11/17 [==================>...........] - ETA: 1s - loss: 0.6730Reading data from: \"/glade/work/wchapman/Italian_Rain/train/input_rain_train.nc\"...\n",
      "12/17 [====================>.........] - ETA: 0s - loss: 0.6570Reading data from: \"/glade/work/wchapman/Italian_Rain/train/input_rain_train.nc\"...\n",
      "13/17 [=====================>........] - ETA: 0s - loss: 0.6516Reading data from: \"/glade/work/wchapman/Italian_Rain/train/input_rain_train.nc\"...\n",
      "14/17 [=======================>......] - ETA: 0s - loss: 0.6484Reading data from: \"/glade/work/wchapman/Italian_Rain/train/input_rain_train.nc\"...\n",
      "15/17 [=========================>....] - ETA: 0s - loss: 0.6410Reading data from: \"/glade/work/wchapman/Italian_Rain/train/input_rain_train.nc\"...\n",
      "16/17 [===========================>..] - ETA: 0s - loss: 0.6285Reading data from: \"/glade/work/wchapman/Italian_Rain/train/input_rain_train.nc\"...\n",
      "Reading data from: \"/glade/work/wchapman/Italian_Rain/validation/input_rain_validate.nc\"...\n",
      "Reading data from: \"/glade/work/wchapman/Italian_Rain/validation/input_rain_validate.nc\"...\n",
      "17/17 [==============================] - 3s 191ms/step - loss: 0.6273 - val_loss: 0.3491\n",
      "\n",
      "Epoch 00003: val_loss improved from 0.35759 to 0.34909, saving model to /glade/work/wchapman/Italian_Rain/models/TEST_GPU_mse_2.h5\n",
      "Epoch 4/100\n",
      "Reading data from: \"/glade/work/wchapman/Italian_Rain/train/input_rain_train.nc\"...\n",
      " 1/17 [>.............................] - ETA: 2s - loss: 0.4807Reading data from: \"/glade/work/wchapman/Italian_Rain/train/input_rain_train.nc\"...\n",
      " 2/17 [==>...........................] - ETA: 2s - loss: 0.5032Reading data from: \"/glade/work/wchapman/Italian_Rain/train/input_rain_train.nc\"...\n",
      " 3/17 [====>.........................] - ETA: 2s - loss: 0.5280Reading data from: \"/glade/work/wchapman/Italian_Rain/train/input_rain_train.nc\"...\n",
      " 4/17 [======>.......................] - ETA: 2s - loss: 0.5540Reading data from: \"/glade/work/wchapman/Italian_Rain/train/input_rain_train.nc\"...\n",
      " 5/17 [=======>......................] - ETA: 2s - loss: 0.5294Reading data from: \"/glade/work/wchapman/Italian_Rain/train/input_rain_train.nc\"...\n",
      " 6/17 [=========>....................] - ETA: 2s - loss: 0.5208Reading data from: \"/glade/work/wchapman/Italian_Rain/train/input_rain_train.nc\"...\n",
      " 7/17 [===========>..................] - ETA: 1s - loss: 0.5194Reading data from: \"/glade/work/wchapman/Italian_Rain/train/input_rain_train.nc\"...\n",
      " 8/17 [=============>................] - ETA: 1s - loss: 0.5102Reading data from: \"/glade/work/wchapman/Italian_Rain/train/input_rain_train.nc\"...\n",
      " 9/17 [==============>...............] - ETA: 1s - loss: 0.5186Reading data from: \"/glade/work/wchapman/Italian_Rain/train/input_rain_train.nc\"...\n",
      "10/17 [================>.............] - ETA: 1s - loss: 0.5127Reading data from: \"/glade/work/wchapman/Italian_Rain/train/input_rain_train.nc\"...\n",
      "11/17 [==================>...........] - ETA: 1s - loss: 0.5065Reading data from: \"/glade/work/wchapman/Italian_Rain/train/input_rain_train.nc\"...\n",
      "12/17 [====================>.........] - ETA: 0s - loss: 0.4974Reading data from: \"/glade/work/wchapman/Italian_Rain/train/input_rain_train.nc\"...\n"
     ]
    }
   ],
   "source": [
    "batch_num =100\n",
    "epochs = 100\n",
    "num_batches_per_ep = int(np.floor(num_samps/batch_num))\n",
    "num_val_batch_per_ep =1\n",
    "\n",
    "output_model_file_name ='/glade/work/wchapman/Italian_Rain/models/TEST_GPU_mse_2.h5'\n",
    "\n",
    "#try to train: \n",
    "aa = training_dictionary = utils.train_cnn(conv_model, train_file_names,\n",
    "norm_dict,norm_dict_targ,batch_num, epochs,\n",
    "num_batches_per_ep, output_model_file_name,val_file_names,num_val_batch_per_ep)"
   ]
  },
  {
   "cell_type": "code",
   "execution_count": 830,
   "metadata": {},
   "outputs": [],
   "source": [
    "jago = utils.read_image_file('/glade/work/wchapman/Italian_Rain/test/input_rain_testing.nc')\n",
    "pred_mat = utils.normalize_images(jago['predictor_matrix'],jago['predictor_names'],norm_dict)\n",
    "truth_mat = jago['target_matrix']"
   ]
  },
  {
   "cell_type": "code",
   "execution_count": 801,
   "metadata": {},
   "outputs": [],
   "source": [
    "# conv_model = utils.read_keras_model('/glade/work/wchapman/Italian_Rain/models/TEST_GPU.h5')"
   ]
  },
  {
   "cell_type": "code",
   "execution_count": 802,
   "metadata": {},
   "outputs": [],
   "source": [
    "# heyhey = utils.apply_cnn(conv_model,pred_mat[0])"
   ]
  },
  {
   "cell_type": "code",
   "execution_count": 831,
   "metadata": {},
   "outputs": [],
   "source": [
    "yo = conv_model.predict(pred_mat[0])"
   ]
  },
  {
   "cell_type": "code",
   "execution_count": 832,
   "metadata": {},
   "outputs": [
    {
     "data": {
      "text/plain": [
       "97.15218"
      ]
     },
     "execution_count": 832,
     "metadata": {},
     "output_type": "execute_result"
    }
   ],
   "source": [
    "np.max(yo*10.99)"
   ]
  },
  {
   "cell_type": "code",
   "execution_count": 833,
   "metadata": {},
   "outputs": [
    {
     "data": {
      "text/plain": [
       "(1770, 507)"
      ]
     },
     "execution_count": 833,
     "metadata": {},
     "output_type": "execute_result"
    }
   ],
   "source": [
    "rain_guess1 = utils.denormalize_images_targ(yo,jago['target_name'],norm_dict_targ)\n",
    "targ_mat.shape"
   ]
  },
  {
   "cell_type": "code",
   "execution_count": 835,
   "metadata": {},
   "outputs": [],
   "source": [
    "rain_guess1 = np.reshape(rain_guess1,(59,3,169)) \n",
    "rain_guess1[rain_guess1<4.5] = 0 \n",
    "truth_mat = np.reshape(truth_mat,(59,3,169)) "
   ]
  },
  {
   "cell_type": "code",
   "execution_count": null,
   "metadata": {},
   "outputs": [],
   "source": []
  },
  {
   "cell_type": "code",
   "execution_count": 836,
   "metadata": {},
   "outputs": [
    {
     "name": "stdout",
     "output_type": "stream",
     "text": [
      "207.98855590820312\n",
      "0.0\n",
      "6.629211412611208\n",
      "5.069663577466103\n",
      "2.6159196\n",
      "14.534992224374115\n",
      "10.579916821168881\n"
     ]
    }
   ],
   "source": [
    "print(np.max(truth_mat))\n",
    "print(np.min(rain_guess1))\n",
    "print(np.mean(forecasts[:,0,:]))\n",
    "print(np.mean(truth_mat[:,0,:]))\n",
    "print(np.mean(rain_guess1[:,0,:]))\n",
    "\n",
    "print(np.sqrt(np.mean((forecasts[:,1,:]-truth_mat[:,1,:])**2)))\n",
    "print(np.sqrt(np.mean(((rain_guess1[:,1,:])-truth_mat[:,1,:])**2)))"
   ]
  },
  {
   "cell_type": "code",
   "execution_count": null,
   "metadata": {},
   "outputs": [],
   "source": []
  },
  {
   "cell_type": "code",
   "execution_count": 837,
   "metadata": {},
   "outputs": [
    {
     "data": {
      "image/png": "[encoded data removed]",
      "text/plain": [
       "<Figure size 432x288 with 2 Axes>"
      ]
     },
     "metadata": {
      "needs_background": "light"
     },
     "output_type": "display_data"
    },
    {
     "data": {
      "image/png": "[encoded data removed]",
      "text/plain": [
       "<Figure size 432x288 with 2 Axes>"
      ]
     },
     "metadata": {
      "needs_background": "light"
     },
     "output_type": "display_data"
    },
    {
     "data": {
      "image/png": "[encoded data removed]",
      "text/plain": [
       "<Figure size 432x288 with 2 Axes>"
      ]
     },
     "metadata": {
      "needs_background": "light"
     },
     "output_type": "display_data"
    }
   ],
   "source": [
    "numdo = 40\n",
    "plt.pcolor(forecasts[numdo,:,:])\n",
    "plt.colorbar()\n",
    "plt.show()\n",
    "\n",
    "plt.pcolor(rain_guess1[numdo,:,:])\n",
    "plt.colorbar()\n",
    "plt.show()\n",
    "\n",
    "plt.pcolor(truth_mat[numdo,:,:])\n",
    "plt.colorbar()\n",
    "plt.show()"
   ]
  },
  {
   "cell_type": "code",
   "execution_count": 838,
   "metadata": {},
   "outputs": [],
   "source": [
    "fcast =  utils.read_image_file('/glade/work/wchapman/Italian_Rain/test/input_rain_testing.nc')\n",
    "forecasts = fcast['predictor_matrix'][:,:,:,0]"
   ]
  },
  {
   "cell_type": "code",
   "execution_count": 839,
   "metadata": {},
   "outputs": [
    {
     "name": "stdout",
     "output_type": "stream",
     "text": [
      "correlation: 0.7240933831559121\n"
     ]
    },
    {
     "data": {
      "image/png": "[encoded data removed]",
      "text/plain": [
       "<Figure size 432x288 with 1 Axes>"
      ]
     },
     "metadata": {
      "needs_background": "light"
     },
     "output_type": "display_data"
    }
   ],
   "source": [
    "fc = np.ndarray.flatten(forecasts[:,0,:])\n",
    "trm = np.ndarray.flatten(truth_mat[:,0,:])\n",
    "print('correlation:',np.corrcoef(fc,trm)[0,1])\n",
    "plt.plot(fc,trm,'*')\n",
    "plt.plot([0,200],[0,200],'r')\n",
    "plt.show()"
   ]
  },
  {
   "cell_type": "code",
   "execution_count": 842,
   "metadata": {},
   "outputs": [
    {
     "name": "stdout",
     "output_type": "stream",
     "text": [
      "correlation: 0.8989979158506988\n"
     ]
    },
    {
     "data": {
      "image/png": "[encoded data removed]",
      "text/plain": [
       "<Figure size 432x288 with 1 Axes>"
      ]
     },
     "metadata": {
      "needs_background": "light"
     },
     "output_type": "display_data"
    }
   ],
   "source": [
    "frg = np.ndarray.flatten(rain_guess1[:,0,:])\n",
    "trm = np.ndarray.flatten(truth_mat[:,0,:])\n",
    "print('correlation:',np.corrcoef(frg,trm)[0,1])\n",
    "plt.plot(frg,trm,'*')\n",
    "plt.plot([0,200],[0,200],'r')\n",
    "plt.show()"
   ]
  },
  {
   "cell_type": "code",
   "execution_count": 675,
   "metadata": {},
   "outputs": [
    {
     "data": {
      "image/png": "[encoded data removed]",
      "text/plain": [
       "<Figure size 432x288 with 1 Axes>"
      ]
     },
     "metadata": {
      "needs_background": "light"
     },
     "output_type": "display_data"
    },
    {
     "data": {
      "image/png": "[encoded data removed]",
      "text/plain": [
       "<Figure size 432x288 with 1 Axes>"
      ]
     },
     "metadata": {
      "needs_background": "light"
     },
     "output_type": "display_data"
    },
    {
     "data": {
      "image/png": "[encoded data removed]",
      "text/plain": [
       "<Figure size 432x288 with 1 Axes>"
      ]
     },
     "metadata": {
      "needs_background": "light"
     },
     "output_type": "display_data"
    }
   ],
   "source": [
    "plt.hist(np.ndarray.flatten(yo),20)\n",
    "plt.show()\n",
    "\n",
    "plt.hist(np.ndarray.flatten(rain_guess1),20)\n",
    "plt.show()\n",
    "\n",
    "plt.hist(np.ndarray.flatten(truth_mat),20)\n",
    "plt.show()"
   ]
  },
  {
   "cell_type": "code",
   "execution_count": null,
   "metadata": {},
   "outputs": [],
   "source": []
  },
  {
   "cell_type": "code",
   "execution_count": 676,
   "metadata": {},
   "outputs": [
    {
     "data": {
      "text/plain": [
       "array([[2.70020008e-01, 5.90820014e-02, 0.00000000e+00, ...,\n",
       "        1.08178711e+01, 2.82324195e+00, 9.90917969e+00],\n",
       "       [2.70020008e-01, 5.90820014e-02, 0.00000000e+00, ...,\n",
       "        3.89400013e-02, 6.29879981e-02, 7.60499984e-02],\n",
       "       [5.04882991e-01, 7.42190033e-02, 2.55858988e-01, ...,\n",
       "        9.99000040e-04, 1.99900009e-03, 1.99900009e-03],\n",
       "       ...,\n",
       "       [0.00000000e+00, 0.00000000e+00, 0.00000000e+00, ...,\n",
       "        4.10000011e-02, 0.00000000e+00, 0.00000000e+00],\n",
       "       [0.00000000e+00, 0.00000000e+00, 0.00000000e+00, ...,\n",
       "        0.00000000e+00, 0.00000000e+00, 0.00000000e+00],\n",
       "       [9.99000040e-04, 0.00000000e+00, 0.00000000e+00, ...,\n",
       "        0.00000000e+00, 0.00000000e+00, 0.00000000e+00]])"
      ]
     },
     "execution_count": 676,
     "metadata": {},
     "output_type": "execute_result"
    }
   ],
   "source": [
    "jago = utils.read_image_file('/glade/work/wchapman/Italian_Rain/test/input_rain_testing.nc')\n",
    "jago['target_matrix']"
   ]
  },
  {
   "cell_type": "code",
   "execution_count": 233,
   "metadata": {},
   "outputs": [
    {
     "data": {
      "text/plain": [
       "(59, 3, 169, 9)"
      ]
     },
     "execution_count": 233,
     "metadata": {},
     "output_type": "execute_result"
    }
   ],
   "source": [
    "root_grp = Dataset('Italy_netcdf4.nc', 'w', format='NETCDF4')\n",
    "root_grp.description = 'Post-Processed Precip Forecast'\n",
    "\n",
    "\n",
    "# dimensions\n",
    "root_grp.createDimension('Days', None)\n",
    "root_grp.createDimension('Lead times', 3)\n",
    "root_grp.createDimension('Staz', 169)\n",
    "\n",
    "# variables\n",
    "time = root_grp.createVariable('Days', 'f8', ('Days',))\n",
    "x = root_grp.createVariable('Lead times', 'f4', ('x',))\n",
    "y = root_grp.createVariable('Staz', 'f4', ('y',))\n",
    "CNN_rr = root_grp.createVariable('CNN_rr', 'f8', ('Days', 'Lead times', 'Staz',))\n",
    "rr = root_grp.createVariable('rr', 'f8', ('Days', 'Lead times', 'Staz',))\n",
    "\n",
    "CNN_rr = rain_guess1\n",
    "rr = fcast['predictor_matrix'][:,:,:,0]\n",
    "\n",
    "root_grp.close()"
   ]
  },
  {
   "cell_type": "code",
   "execution_count": null,
   "metadata": {},
   "outputs": [],
   "source": [
    "root_grp = Dataset('py_netcdf4.nc', 'w', format='NETCDF4')\n",
    "root_grp.description = 'Example simulation data'\n",
    "\n",
    "ndim = 128 # Size of the matrix ndim*ndim\n",
    "xdimension = 0.75\n",
    "ydimension = 0.75\n",
    "# dimensions\n",
    "root_grp.createDimension('time', None)\n",
    "root_grp.createDimension('x', ndim)\n",
    "root_grp.createDimension('y', ndim)\n",
    "\n",
    "# variables\n",
    "time = root_grp.createVariable('time', 'f8', ('time',))\n",
    "x = root_grp.createVariable('x', 'f4', ('x',))\n",
    "y = root_grp.createVariable('y', 'f4', ('y',))\n",
    "field = root_grp.createVariable('field', 'f8', ('time', 'x', 'y',))\n",
    "\n",
    "# data\n",
    "x_range =  np.linspace(0, xdimension, ndim)\n",
    "y_range =  np.linspace(0, ydimension, ndim)\n",
    "x[:] = x_range\n",
    "y[:] = y_range\n",
    "for i in range(5):\n",
    "    time[i] = i*50.0\n",
    "    field[i,:,:] = np.random.uniform(size=(len(x_range), len(y_range)))\n",
    "\n",
    "\n",
    "root_grp.close()"
   ]
  },
  {
   "cell_type": "code",
   "execution_count": 682,
   "metadata": {},
   "outputs": [
    {
     "data": {
      "text/plain": [
       "(59, 3, 169)"
      ]
     },
     "execution_count": 682,
     "metadata": {},
     "output_type": "execute_result"
    }
   ],
   "source": [
    "e"
   ]
  },
  {
   "cell_type": "code",
   "execution_count": null,
   "metadata": {},
   "outputs": [],
   "source": []
  }
 ],
 "metadata": {
  "kernelspec": {
   "display_name": "Python 3",
   "language": "python",
   "name": "python3"
  },
  "language_info": {
   "codemirror_mode": {
    "name": "ipython",
    "version": 3
   },
   "file_extension": ".py",
   "mimetype": "text/x-python",
   "name": "python",
   "nbconvert_exporter": "python",
   "pygments_lexer": "ipython3",
   "version": "3.6.8"
  }
 },
 "nbformat": 4,
 "nbformat_minor": 2
}
